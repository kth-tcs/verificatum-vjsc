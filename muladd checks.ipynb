{
 "cells": [
  {
   "cell_type": "code",
   "execution_count": 1,
   "metadata": {},
   "outputs": [],
   "source": [
    "var verificatum = require('./js/min-vjsc-1.1.1.js').verificatum;\n",
    "var old = require('./js/min-vjsc-1.1.1.js.old').verificatum;"
   ]
  },
  {
   "cell_type": "code",
   "execution_count": 2,
   "metadata": {},
   "outputs": [],
   "source": [
    "function assert_arr(a1, a2) {\n",
    "    assert(JSON.stringify(a1) == JSON.stringify(a2));\n",
    "}"
   ]
  },
  {
   "cell_type": "code",
   "execution_count": 3,
   "metadata": {},
   "outputs": [],
   "source": [
    "function randint(min, max) { // min and max included \n",
    "    return Math.floor(Math.random() * (max - min + 1) + min);\n",
    "}\n",
    "function randword() {\n",
    "    return randint(0, 2**28-1);\n",
    "}"
   ]
  },
  {
   "cell_type": "code",
   "execution_count": 4,
   "metadata": {},
   "outputs": [],
   "source": [
    "var w1 = [10, 20, 30, 40, 50, 60, 70, 55, 55, 45, 33, 238, 1238, 1213, 233, 8081];\n",
    "var x1 = [5, 4, 9, 9, 33, 4, 6, 10, 100, 20];\n",
    "var c1 = 0;\n",
    "var w2 = w1.slice();\n",
    "var x2 = x1.slice();\n",
    "var c2 = 0;\n",
    "for (var i = 0; i < 100; i++) {\n",
    "    c1 = verificatum.arithm.li.muladd_loop(w1, x1, 0, 10, 5, 0, c1);\n",
    "    c2 = verificatum.arithm.li.muladd_loop(w2, x2, 0, 10, 5, 0, c1);\n",
    "    \n",
    "    assert_arr(w1 , w2);\n",
    "    assert_arr(x1 , x2)\n",
    "    assert(c1 == c2);\n",
    "}"
   ]
  },
  {
   "cell_type": "code",
   "execution_count": 7,
   "metadata": {},
   "outputs": [],
   "source": [
    "var c1 = 0;\n",
    "var w1;\n",
    "var w2;\n",
    "var w2;\n",
    "var x2;\n",
    "var c2 = 0;\n",
    "var w_before;\n",
    "for (var outer = 0; outer < 1000; outer++) {    \n",
    "    const inner_size = randint(1, 100);\n",
    "    const wlen = randint(1, 100);\n",
    "    const xlen = randint(1, 100);\n",
    "    \n",
    "    w1 = [];\n",
    "    for (var i = 0; i < wlen; i++){\n",
    "        w1[i] = randword();\n",
    "    }\n",
    "    w2 = w1.slice();\n",
    "    \n",
    "    x1 = [];\n",
    "    for (var i = 0; i < xlen; i++){\n",
    "        x1[i] = randword();\n",
    "    }\n",
    "    x2 = x1.slice();\n",
    "    for (var inner = 0; inner < inner_size; inner++) {\n",
    "        const min_len = Math.min(w1.length, x1.length);\n",
    "        const start = randint(0, min_len);\n",
    "        const end = randint(start, min_len);\n",
    "        const Y = randword();\n",
    "        const i = randint(0, w1.length-1-end);\n",
    "        \n",
    "        w_before = w1.slice();\n",
    "        \n",
    "        // Sanity checks\n",
    "        assert(end + i <= w1.length); // w[j + i] accessed where j < end\n",
    "        assert(start <= end);\n",
    "        \n",
    "        c1 = verificatum.arithm.li.muladd_loop(w1, x1, start, end, Y, i, c1);\n",
    "        c2 = verificatum.arithm.li.muladd_loop(w2, x2, start, end, Y, i, c2);\n",
    "\n",
    "        assert_arr(w1 , w2);\n",
    "        assert_arr(x1 , x2)\n",
    "        assert(c1 == c2);\n",
    "    }\n",
    "}"
   ]
  }
 ],
 "metadata": {
  "kernelspec": {
   "display_name": "Javascript (Node.js)",
   "language": "javascript",
   "name": "javascript"
  },
  "language_info": {
   "file_extension": ".js",
   "mimetype": "application/javascript",
   "name": "javascript",
   "version": "8.10.0"
  }
 },
 "nbformat": 4,
 "nbformat_minor": 2
}
